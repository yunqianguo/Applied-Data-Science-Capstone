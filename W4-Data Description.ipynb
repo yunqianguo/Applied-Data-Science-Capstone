{
    "nbformat_minor": 1, 
    "cells": [
        {
            "source": "# <center> Data Description\n## <center> Open Tasty Pot restaurant in Columbus Ohio\n### <center> Yunqian Guo\n### <center> September 30, 2019\n", 
            "cell_type": "markdown", 
            "metadata": {
                "collapsed": true
            }
        }, 
        {
            "execution_count": 6, 
            "cell_type": "code", 
            "metadata": {}, 
            "outputs": [
                {
                    "output_type": "stream", 
                    "name": "stdout", 
                    "text": "/usr/bin/sh: $: command not found\r\n"
                }
            ], 
            "source": "!$ [sudo] pip install markdown-table"
        }, 
        {
            "source": "## Data Acquisition\nThe data to be used in the project has been taken from Foursquare API\n## Parameter Selection\nThe dataset contains columns, which are not needed as they are not adding to the data and hence, they need to be removed. The table below shows what parameters will be retained and which parameters will be removed.\n### <center> Table: Parameters to Retain\n|Parameter|Reason to retain|\n|----------|:-------------:|\n|Name |It should be kept for identification only, though it does not add to the analysis.|\n|Establishment|This is required to identify type of restaurant that may work in a locality.|\n|City|For identification if a locality belongs to New Delhi, Noida or Gurgaon|\n|Locality|This is required for identification of a suitable area to open a restaurant|\n|Address|This is required for getting Latitude and Longitude data|\n|Cuisines|This is required to identify what cuisines are popular|\n|Average_cost_for_two|This is required to analyse suitable price range|\n|Highlights|This column shows the features provided and was needed for analysis|\n|Aggregate_rating|This is needed to identify highly rated localities and other impacts|\n|Votes|This column is synonymous to number to people visited, which is needed for analysis|", 
            "cell_type": "markdown", 
            "metadata": {}
        }
    ], 
    "metadata": {
        "kernelspec": {
            "display_name": "Python 3.6", 
            "name": "python3", 
            "language": "python"
        }, 
        "language_info": {
            "mimetype": "text/x-python", 
            "nbconvert_exporter": "python", 
            "version": "3.6.8", 
            "name": "python", 
            "file_extension": ".py", 
            "pygments_lexer": "ipython3", 
            "codemirror_mode": {
                "version": 3, 
                "name": "ipython"
            }
        }
    }, 
    "nbformat": 4
}