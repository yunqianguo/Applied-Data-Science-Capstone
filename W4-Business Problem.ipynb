{
    "nbformat_minor": 1, 
    "cells": [
        {
            "source": "# <center> Bsiness Problem </center>\n  \n## <center> Open Tasty Pot restaurant in Columbus Ohio <center>\n### <center> Yunqian Guo <center>\n### <center> September 30, 2019 <center>\n## Background\nChinese believe food is the paramount necessity of life. Especially when people are far away from home. Homesick makes people crave more for family taste. Although people in North America see so many Chinese restaurant on the street, majority of them are customized according to American tastes. To have authentic and economic Chinese food is nearly impossible. Hotpot is one of the most common cooking method you can find in every Chinese family. It\u2019s prepared with a simmering pot of soup stock at the dining table, containing a variety of East Asian foodstuffs and ingredients. Traditionally, hotpot is served in large size and shared by several people. The cost of a hotpot meal is various based on the volume of ingredients and the number of guests. Some greedy eaters can easily boost the whole bill.\n## Problem\nChinese don\u2019t mind spending extra money on good food. However, there are a lot of Chinese are students or beginners from middle-low class family. Spending over $20 on a meal is a luxury to them. Usually, traditional Chinese cook could only have 2 or 3 ingredients in the recipe. To have a meal party, it requires several dishes and many participators. Taste Pot is a franchised hot pot restaurant where eaters could order their individual hot pot at a relatively low price. This cuisine fulfills middle-low class and/or single customer segment. Taste Pot is planning to open their franchise at Columbus, the capital city of state Ohio. Now they need to find a best location to open their restaurant.\n## Interest\nIn this data science project, we will try to locate the major restaurant consumption area for the middle-low class customers, especially where people are more interested in Asian food. Several data criteria are essential in this project.<br>\n\u2022\tWhat are the locations with high footfalls? <br>\n\u2022\tWhat kind of restaurants people are more interested in? <br>\n\u2022\tHow much people usually pay in the restaurant in this area?\n", 
            "cell_type": "markdown", 
            "metadata": {
                "collapsed": true
            }
        }
    ], 
    "metadata": {
        "kernelspec": {
            "display_name": "Python 3.6", 
            "name": "python3", 
            "language": "python"
        }, 
        "language_info": {
            "mimetype": "text/x-python", 
            "nbconvert_exporter": "python", 
            "version": "3.6.8", 
            "name": "python", 
            "file_extension": ".py", 
            "pygments_lexer": "ipython3", 
            "codemirror_mode": {
                "version": 3, 
                "name": "ipython"
            }
        }
    }, 
    "nbformat": 4
}